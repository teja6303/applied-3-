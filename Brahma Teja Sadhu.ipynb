{
 "cells": [
  {
   "cell_type": "markdown",
   "id": "b008047e",
   "metadata": {},
   "source": [
    "## Foreign direct investment, net inflows (BoP, current USD)"
   ]
  },
  {
   "cell_type": "code",
   "execution_count": 1,
   "id": "6719ad48",
   "metadata": {},
   "outputs": [],
   "source": [
    "# https://data.worldbank.org/indicator/BX.KLT.DINV.CD.WD"
   ]
  },
  {
   "cell_type": "code",
   "execution_count": 1,
   "id": "615e91be",
   "metadata": {},
   "outputs": [],
   "source": [
    "import warnings\n",
    "warnings.filterwarnings(\"ignore\")\n",
    "import pandas as pd\n",
    "import numpy as np\n",
    "import matplotlib.pyplot as plt\n",
    "import seaborn as sns\n",
    "import scipy.optimize as opt\n",
    "import errors\n",
    "%matplotlib inline"
   ]
  },
  {
   "cell_type": "code",
   "execution_count": 2,
   "id": "39d8033f",
   "metadata": {},
   "outputs": [],
   "source": [
    "def import_worldbank_data(filename):\n",
    "    \"\"\"\n",
    "    Imports World Bank data from a CSV file.\n",
    "\n",
    "    Parameters:\n",
    "    - filename: The path to the CSV file.\n",
    "\n",
    "    Returns:\n",
    "    - df_country: Original dataframe.\n",
    "    - df_years: Transposed dataframe.\n",
    "    \"\"\"\n",
    "    df_country = pd.read_csv(filename, skiprows=4)\n",
    "    df_years = df_country.transpose()\n",
    "    df_years.columns = df_years.iloc[0]\n",
    "\n",
    "    return df_country, df_years"
   ]
  },
  {
   "cell_type": "code",
   "execution_count": 3,
   "id": "deac3267",
   "metadata": {},
   "outputs": [],
   "source": [
    "df_country, df_years = import_worldbank_data('API_BX.KLT.DINV.CD.WD_DS2_en_csv_v2_6298201.csv')"
   ]
  },
  {
   "cell_type": "code",
   "execution_count": 4,
   "id": "378c3777",
   "metadata": {},
   "outputs": [],
   "source": [
    "sub_df = df_country[['Country Name', 'Indicator Name'] + list(map(str, range(2001, 2021)))].dropna()"
   ]
  },
  {
   "cell_type": "code",
   "execution_count": 5,
   "id": "22030df0",
   "metadata": {},
   "outputs": [
    {
     "data": {
      "text/html": [
       "<div>\n",
       "<style scoped>\n",
       "    .dataframe tbody tr th:only-of-type {\n",
       "        vertical-align: middle;\n",
       "    }\n",
       "\n",
       "    .dataframe tbody tr th {\n",
       "        vertical-align: top;\n",
       "    }\n",
       "\n",
       "    .dataframe thead th {\n",
       "        text-align: right;\n",
       "    }\n",
       "</style>\n",
       "<table border=\"1\" class=\"dataframe\">\n",
       "  <thead>\n",
       "    <tr style=\"text-align: right;\">\n",
       "      <th></th>\n",
       "      <th>Country Name</th>\n",
       "      <th>Indicator Name</th>\n",
       "      <th>2001</th>\n",
       "      <th>2002</th>\n",
       "      <th>2003</th>\n",
       "      <th>2004</th>\n",
       "      <th>2005</th>\n",
       "      <th>2006</th>\n",
       "      <th>2007</th>\n",
       "      <th>2008</th>\n",
       "      <th>...</th>\n",
       "      <th>2011</th>\n",
       "      <th>2012</th>\n",
       "      <th>2013</th>\n",
       "      <th>2014</th>\n",
       "      <th>2015</th>\n",
       "      <th>2016</th>\n",
       "      <th>2017</th>\n",
       "      <th>2018</th>\n",
       "      <th>2019</th>\n",
       "      <th>2020</th>\n",
       "    </tr>\n",
       "  </thead>\n",
       "  <tbody>\n",
       "    <tr>\n",
       "      <th>0</th>\n",
       "      <td>Aruba</td>\n",
       "      <td>Foreign direct investment, net inflows (BoP, c...</td>\n",
       "      <td>-2.669274e+08</td>\n",
       "      <td>3.325140e+08</td>\n",
       "      <td>1.597765e+08</td>\n",
       "      <td>-1.056983e+08</td>\n",
       "      <td>-2.077980e+08</td>\n",
       "      <td>2.203161e+08</td>\n",
       "      <td>-4.710056e+08</td>\n",
       "      <td>1.888268e+07</td>\n",
       "      <td>...</td>\n",
       "      <td>4.881564e+08</td>\n",
       "      <td>-3.146927e+08</td>\n",
       "      <td>2.263714e+08</td>\n",
       "      <td>2.506181e+08</td>\n",
       "      <td>-2.877586e+07</td>\n",
       "      <td>2.755127e+07</td>\n",
       "      <td>1.624636e+08</td>\n",
       "      <td>1.359212e+08</td>\n",
       "      <td>-7.522654e+07</td>\n",
       "      <td>1.610670e+08</td>\n",
       "    </tr>\n",
       "    <tr>\n",
       "      <th>1</th>\n",
       "      <td>Africa Eastern and Southern</td>\n",
       "      <td>Foreign direct investment, net inflows (BoP, c...</td>\n",
       "      <td>1.220501e+10</td>\n",
       "      <td>6.464122e+09</td>\n",
       "      <td>8.555149e+09</td>\n",
       "      <td>7.979692e+09</td>\n",
       "      <td>1.033388e+10</td>\n",
       "      <td>7.234543e+09</td>\n",
       "      <td>1.612228e+10</td>\n",
       "      <td>2.248323e+10</td>\n",
       "      <td>...</td>\n",
       "      <td>1.753871e+10</td>\n",
       "      <td>2.463634e+10</td>\n",
       "      <td>2.153425e+10</td>\n",
       "      <td>2.768142e+10</td>\n",
       "      <td>2.877423e+10</td>\n",
       "      <td>1.666027e+10</td>\n",
       "      <td>1.010829e+10</td>\n",
       "      <td>1.358898e+10</td>\n",
       "      <td>1.486866e+10</td>\n",
       "      <td>1.285669e+10</td>\n",
       "    </tr>\n",
       "    <tr>\n",
       "      <th>2</th>\n",
       "      <td>Afghanistan</td>\n",
       "      <td>Foreign direct investment, net inflows (BoP, c...</td>\n",
       "      <td>6.800000e+05</td>\n",
       "      <td>5.000000e+07</td>\n",
       "      <td>5.780000e+07</td>\n",
       "      <td>1.869000e+08</td>\n",
       "      <td>2.710000e+08</td>\n",
       "      <td>2.380000e+08</td>\n",
       "      <td>1.886900e+08</td>\n",
       "      <td>4.603374e+07</td>\n",
       "      <td>...</td>\n",
       "      <td>5.217342e+07</td>\n",
       "      <td>5.682366e+07</td>\n",
       "      <td>4.831135e+07</td>\n",
       "      <td>4.297526e+07</td>\n",
       "      <td>1.691466e+08</td>\n",
       "      <td>9.359132e+07</td>\n",
       "      <td>5.153390e+07</td>\n",
       "      <td>1.194351e+08</td>\n",
       "      <td>2.340455e+07</td>\n",
       "      <td>1.297015e+07</td>\n",
       "    </tr>\n",
       "    <tr>\n",
       "      <th>3</th>\n",
       "      <td>Africa Western and Central</td>\n",
       "      <td>Foreign direct investment, net inflows (BoP, c...</td>\n",
       "      <td>3.224339e+09</td>\n",
       "      <td>4.408519e+09</td>\n",
       "      <td>5.262167e+09</td>\n",
       "      <td>4.653749e+09</td>\n",
       "      <td>9.278129e+09</td>\n",
       "      <td>9.202357e+09</td>\n",
       "      <td>1.303066e+10</td>\n",
       "      <td>1.631744e+10</td>\n",
       "      <td>...</td>\n",
       "      <td>2.450114e+10</td>\n",
       "      <td>2.091269e+10</td>\n",
       "      <td>1.915755e+10</td>\n",
       "      <td>1.659803e+10</td>\n",
       "      <td>1.564317e+10</td>\n",
       "      <td>1.393704e+10</td>\n",
       "      <td>1.766242e+10</td>\n",
       "      <td>1.549284e+10</td>\n",
       "      <td>1.245274e+10</td>\n",
       "      <td>1.075330e+10</td>\n",
       "    </tr>\n",
       "    <tr>\n",
       "      <th>4</th>\n",
       "      <td>Angola</td>\n",
       "      <td>Foreign direct investment, net inflows (BoP, c...</td>\n",
       "      <td>2.145470e+09</td>\n",
       "      <td>1.743504e+09</td>\n",
       "      <td>3.576972e+09</td>\n",
       "      <td>2.197228e+09</td>\n",
       "      <td>-1.303837e+09</td>\n",
       "      <td>-3.771486e+07</td>\n",
       "      <td>-8.933422e+08</td>\n",
       "      <td>1.678971e+09</td>\n",
       "      <td>...</td>\n",
       "      <td>-3.023771e+09</td>\n",
       "      <td>-1.464628e+09</td>\n",
       "      <td>-7.120017e+09</td>\n",
       "      <td>3.657515e+09</td>\n",
       "      <td>1.002822e+10</td>\n",
       "      <td>-1.795176e+08</td>\n",
       "      <td>-7.397295e+09</td>\n",
       "      <td>-6.456076e+09</td>\n",
       "      <td>-4.098479e+09</td>\n",
       "      <td>-1.866468e+09</td>\n",
       "    </tr>\n",
       "  </tbody>\n",
       "</table>\n",
       "<p>5 rows × 22 columns</p>\n",
       "</div>"
      ],
      "text/plain": [
       "                  Country Name  \\\n",
       "0                        Aruba   \n",
       "1  Africa Eastern and Southern   \n",
       "2                  Afghanistan   \n",
       "3   Africa Western and Central   \n",
       "4                       Angola   \n",
       "\n",
       "                                      Indicator Name          2001  \\\n",
       "0  Foreign direct investment, net inflows (BoP, c... -2.669274e+08   \n",
       "1  Foreign direct investment, net inflows (BoP, c...  1.220501e+10   \n",
       "2  Foreign direct investment, net inflows (BoP, c...  6.800000e+05   \n",
       "3  Foreign direct investment, net inflows (BoP, c...  3.224339e+09   \n",
       "4  Foreign direct investment, net inflows (BoP, c...  2.145470e+09   \n",
       "\n",
       "           2002          2003          2004          2005          2006  \\\n",
       "0  3.325140e+08  1.597765e+08 -1.056983e+08 -2.077980e+08  2.203161e+08   \n",
       "1  6.464122e+09  8.555149e+09  7.979692e+09  1.033388e+10  7.234543e+09   \n",
       "2  5.000000e+07  5.780000e+07  1.869000e+08  2.710000e+08  2.380000e+08   \n",
       "3  4.408519e+09  5.262167e+09  4.653749e+09  9.278129e+09  9.202357e+09   \n",
       "4  1.743504e+09  3.576972e+09  2.197228e+09 -1.303837e+09 -3.771486e+07   \n",
       "\n",
       "           2007          2008  ...          2011          2012          2013  \\\n",
       "0 -4.710056e+08  1.888268e+07  ...  4.881564e+08 -3.146927e+08  2.263714e+08   \n",
       "1  1.612228e+10  2.248323e+10  ...  1.753871e+10  2.463634e+10  2.153425e+10   \n",
       "2  1.886900e+08  4.603374e+07  ...  5.217342e+07  5.682366e+07  4.831135e+07   \n",
       "3  1.303066e+10  1.631744e+10  ...  2.450114e+10  2.091269e+10  1.915755e+10   \n",
       "4 -8.933422e+08  1.678971e+09  ... -3.023771e+09 -1.464628e+09 -7.120017e+09   \n",
       "\n",
       "           2014          2015          2016          2017          2018  \\\n",
       "0  2.506181e+08 -2.877586e+07  2.755127e+07  1.624636e+08  1.359212e+08   \n",
       "1  2.768142e+10  2.877423e+10  1.666027e+10  1.010829e+10  1.358898e+10   \n",
       "2  4.297526e+07  1.691466e+08  9.359132e+07  5.153390e+07  1.194351e+08   \n",
       "3  1.659803e+10  1.564317e+10  1.393704e+10  1.766242e+10  1.549284e+10   \n",
       "4  3.657515e+09  1.002822e+10 -1.795176e+08 -7.397295e+09 -6.456076e+09   \n",
       "\n",
       "           2019          2020  \n",
       "0 -7.522654e+07  1.610670e+08  \n",
       "1  1.486866e+10  1.285669e+10  \n",
       "2  2.340455e+07  1.297015e+07  \n",
       "3  1.245274e+10  1.075330e+10  \n",
       "4 -4.098479e+09 -1.866468e+09  \n",
       "\n",
       "[5 rows x 22 columns]"
      ]
     },
     "execution_count": 5,
     "metadata": {},
     "output_type": "execute_result"
    }
   ],
   "source": [
    "sub_df.head()"
   ]
  },
  {
   "cell_type": "code",
   "execution_count": 6,
   "id": "293b74c5",
   "metadata": {},
   "outputs": [],
   "source": [
    "subset = sub_df[[\"Country Name\", \"2020\"]].copy()"
   ]
  },
  {
   "cell_type": "code",
   "execution_count": 7,
   "id": "6b714011",
   "metadata": {},
   "outputs": [],
   "source": [
    "subset[\"Growth (%)\"] = 100.0 * (sub_df[\"2020\"] - sub_df[\"2001\"]) / (sub_df[\"2001\"])"
   ]
  },
  {
   "cell_type": "code",
   "execution_count": 8,
   "id": "f0a9f698",
   "metadata": {},
   "outputs": [
    {
     "data": {
      "text/html": [
       "<div>\n",
       "<style scoped>\n",
       "    .dataframe tbody tr th:only-of-type {\n",
       "        vertical-align: middle;\n",
       "    }\n",
       "\n",
       "    .dataframe tbody tr th {\n",
       "        vertical-align: top;\n",
       "    }\n",
       "\n",
       "    .dataframe thead th {\n",
       "        text-align: right;\n",
       "    }\n",
       "</style>\n",
       "<table border=\"1\" class=\"dataframe\">\n",
       "  <thead>\n",
       "    <tr style=\"text-align: right;\">\n",
       "      <th></th>\n",
       "      <th>2020</th>\n",
       "      <th>Growth (%)</th>\n",
       "    </tr>\n",
       "  </thead>\n",
       "  <tbody>\n",
       "    <tr>\n",
       "      <th>count</th>\n",
       "      <td>2.350000e+02</td>\n",
       "      <td>2.350000e+02</td>\n",
       "    </tr>\n",
       "    <tr>\n",
       "      <th>mean</th>\n",
       "      <td>4.315886e+10</td>\n",
       "      <td>6.920665e+03</td>\n",
       "    </tr>\n",
       "    <tr>\n",
       "      <th>std</th>\n",
       "      <td>1.385960e+11</td>\n",
       "      <td>8.794745e+04</td>\n",
       "    </tr>\n",
       "    <tr>\n",
       "      <th>min</th>\n",
       "      <td>-2.421676e+11</td>\n",
       "      <td>-7.633622e+04</td>\n",
       "    </tr>\n",
       "    <tr>\n",
       "      <th>25%</th>\n",
       "      <td>7.193094e+07</td>\n",
       "      <td>-2.269979e+01</td>\n",
       "    </tr>\n",
       "    <tr>\n",
       "      <th>50%</th>\n",
       "      <td>1.004372e+09</td>\n",
       "      <td>1.558197e+02</td>\n",
       "    </tr>\n",
       "    <tr>\n",
       "      <th>75%</th>\n",
       "      <td>1.253748e+10</td>\n",
       "      <td>4.812198e+02</td>\n",
       "    </tr>\n",
       "    <tr>\n",
       "      <th>max</th>\n",
       "      <td>1.195478e+12</td>\n",
       "      <td>1.334900e+06</td>\n",
       "    </tr>\n",
       "  </tbody>\n",
       "</table>\n",
       "</div>"
      ],
      "text/plain": [
       "               2020    Growth (%)\n",
       "count  2.350000e+02  2.350000e+02\n",
       "mean   4.315886e+10  6.920665e+03\n",
       "std    1.385960e+11  8.794745e+04\n",
       "min   -2.421676e+11 -7.633622e+04\n",
       "25%    7.193094e+07 -2.269979e+01\n",
       "50%    1.004372e+09  1.558197e+02\n",
       "75%    1.253748e+10  4.812198e+02\n",
       "max    1.195478e+12  1.334900e+06"
      ]
     },
     "execution_count": 8,
     "metadata": {},
     "output_type": "execute_result"
    }
   ],
   "source": [
    "subset.describe()"
   ]
  },
  {
   "cell_type": "code",
   "execution_count": 9,
   "id": "0b584e13",
   "metadata": {},
   "outputs": [
    {
     "data": {
      "image/png": "[encoded data removed]",
      "text/plain": [
       "<Figure size 576x360 with 1 Axes>"
      ]
     },
     "metadata": {
      "needs_background": "light"
     },
     "output_type": "display_data"
    }
   ],
   "source": [
    "plt.figure(figsize=(8, 5))\n",
    "scatter_plot = plt.scatter(subset[\"2020\"], subset[\"Growth (%)\"], 7, label=\"Foreign direct investment\")\n",
    "plt.xlabel(\"Foreign direct investment in 2020\")\n",
    "plt.ylabel(\"Foreign direct investment Growth (%) (2001-2020)\")\n",
    "plt.title(\"FDI in 2020 vs. FDI Growth (%) (2001-2020)\")\n",
    "plt.legend()\n",
    "plt.show()"
   ]
  },
  {
   "cell_type": "code",
   "execution_count": 13,
   "id": "ecb831d9",
   "metadata": {},
   "outputs": [],
   "source": [
    "import sklearn.preprocessing as pp\n",
    "\n",
    "def robust_scale_data(subset, features):\n",
    "    \"\"\"\n",
    "    Scale and transform the specified features using RobustScaler.\n",
    "\n",
    "    Returns:\n",
    "    - DataFrame: A DataFrame with the specified features scaled and transformed.\n",
    "    \"\"\"\n",
    "    x = subset[features].copy()\n",
    "    scaler = pp.RobustScaler()\n",
    "    scaler.fit(x)\n",
    "    x_norm = scaler.transform(x)\n",
    "\n",
    "    return x_norm\n",
    "\n",
    "x_norm = robust_scale_data(subset, [\"2020\", \"Growth (%)\"])"
   ]
  },
  {
   "cell_type": "code",
   "execution_count": 14,
   "id": "30c44c6f",
   "metadata": {},
   "outputs": [],
   "source": [
    "def silhouette_score(xy, n):\n",
    "    \"\"\"Calculates silhouette score for n clusters\"\"\"\n",
    "    kmeans = KMeans(n_clusters=n, n_init=20)\n",
    "    kmeans.fit(xy)\n",
    "    labels = kmeans.labels_\n",
    "    score = skmet.silhouette_score(xy, labels)\n",
    "    return score"
   ]
  },
  {
   "cell_type": "code",
   "execution_count": 15,
   "id": "aadfc39a",
   "metadata": {},
   "outputs": [
    {
     "name": "stdout",
     "output_type": "stream",
     "text": [
      "The silhouette score for   2 is  0.9902\n",
      "The silhouette score for   3 is  0.9552\n",
      "The silhouette score for   4 is  0.9216\n",
      "The silhouette score for   5 is  0.8242\n",
      "The silhouette score for   6 is  0.8517\n",
      "The silhouette score for   7 is  0.8385\n",
      "The silhouette score for   8 is  0.7341\n",
      "The silhouette score for   9 is  0.7309\n"
     ]
    }
   ],
   "source": [
    "from sklearn.cluster import KMeans\n",
    "import sklearn.metrics as skmet\n",
    "\n",
    "# Calculate silhouette score for different numbers of clusters\n",
    "for i in range(2, 10):\n",
    "    score = silhouette_score(x_norm, i)\n",
    "    print(f\"The silhouette score for {i: 3d} is {score: 7.4f}\")"
   ]
  },
  {
   "cell_type": "code",
   "execution_count": 15,
   "id": "69f44a1b",
   "metadata": {},
   "outputs": [],
   "source": [
    "kmeans = KMeans(n_clusters=5, n_init=10)\n",
    "kmeans.fit(x_norm)\n",
    "labels = kmeans.labels_\n",
    "cen = kmeans.cluster_centers_\n",
    "cen = scaler.inverse_transform(cen)\n",
    "xkmeans = cen[:, 0]\n",
    "ykmeans = cen[:, 1]"
   ]
  },
  {
   "cell_type": "code",
   "execution_count": 16,
   "id": "89e00fe6",
   "metadata": {},
   "outputs": [
    {
     "data": {
      "image/png": "[encoded data removed]",
      "text/plain": [
       "<Figure size 576x360 with 1 Axes>"
      ]
     },
     "metadata": {
      "needs_background": "light"
     },
     "output_type": "display_data"
    }
   ],
   "source": [
    "plt.figure(figsize=(8, 5))\n",
    "palette = sns.color_palette(\"viridis\", n_colors=5, as_cmap=True)\n",
    "plt.scatter(subset[\"2020\"], subset[\"Growth (%)\"], c=labels, marker=\"o\", s=10, cmap=palette)\n",
    "plt.scatter(xkmeans, ykmeans, c=\"black\", s=30, label=\"Cluster Centroids\")\n",
    "plt.xlabel(\"Foreign direct investment in 2020\")\n",
    "plt.ylabel(\"Foreign direct investment Growth (%) (2001-2020)\")\n",
    "plt.title(\"K-Means Clustering\")\n",
    "plt.legend()\n",
    "plt.show()"
   ]
  },
  {
   "cell_type": "code",
   "execution_count": 17,
   "id": "1b8d2f9d",
   "metadata": {},
   "outputs": [
    {
     "data": {
      "text/html": [
       "<div>\n",
       "<style scoped>\n",
       "    .dataframe tbody tr th:only-of-type {\n",
       "        vertical-align: middle;\n",
       "    }\n",
       "\n",
       "    .dataframe tbody tr th {\n",
       "        vertical-align: top;\n",
       "    }\n",
       "\n",
       "    .dataframe thead th {\n",
       "        text-align: right;\n",
       "    }\n",
       "</style>\n",
       "<table border=\"1\" class=\"dataframe\">\n",
       "  <thead>\n",
       "    <tr style=\"text-align: right;\">\n",
       "      <th>Country Name</th>\n",
       "      <th>Year</th>\n",
       "      <th>Foreign direct investment</th>\n",
       "    </tr>\n",
       "  </thead>\n",
       "  <tbody>\n",
       "    <tr>\n",
       "      <th>count</th>\n",
       "      <td>20.00000</td>\n",
       "      <td>2.000000e+01</td>\n",
       "    </tr>\n",
       "    <tr>\n",
       "      <th>mean</th>\n",
       "      <td>2010.50000</td>\n",
       "      <td>2.935539e+10</td>\n",
       "    </tr>\n",
       "    <tr>\n",
       "      <th>std</th>\n",
       "      <td>5.91608</td>\n",
       "      <td>1.737734e+10</td>\n",
       "    </tr>\n",
       "    <tr>\n",
       "      <th>min</th>\n",
       "      <td>2001.00000</td>\n",
       "      <td>3.681985e+09</td>\n",
       "    </tr>\n",
       "    <tr>\n",
       "      <th>25%</th>\n",
       "      <td>2005.75000</td>\n",
       "      <td>1.683919e+10</td>\n",
       "    </tr>\n",
       "    <tr>\n",
       "      <th>50%</th>\n",
       "      <td>2010.50000</td>\n",
       "      <td>3.136484e+10</td>\n",
       "    </tr>\n",
       "    <tr>\n",
       "      <th>75%</th>\n",
       "      <td>2015.25000</td>\n",
       "      <td>4.243966e+10</td>\n",
       "    </tr>\n",
       "    <tr>\n",
       "      <th>max</th>\n",
       "      <td>2020.00000</td>\n",
       "      <td>6.436236e+10</td>\n",
       "    </tr>\n",
       "  </tbody>\n",
       "</table>\n",
       "</div>"
      ],
      "text/plain": [
       "Country Name        Year  Foreign direct investment\n",
       "count           20.00000               2.000000e+01\n",
       "mean          2010.50000               2.935539e+10\n",
       "std              5.91608               1.737734e+10\n",
       "min           2001.00000               3.681985e+09\n",
       "25%           2005.75000               1.683919e+10\n",
       "50%           2010.50000               3.136484e+10\n",
       "75%           2015.25000               4.243966e+10\n",
       "max           2020.00000               6.436236e+10"
      ]
     },
     "execution_count": 17,
     "metadata": {},
     "output_type": "execute_result"
    }
   ],
   "source": [
    "ind_df = df_years.loc['2001':'2020', ['India']].reset_index().rename(columns={'index': 'Year', 'India': 'Foreign direct investment'})\n",
    "ind_df = ind_df.apply(pd.to_numeric, errors='coerce')\n",
    "ind_df.describe()"
   ]
  },
  {
   "cell_type": "code",
   "execution_count": 18,
   "id": "56df1163",
   "metadata": {},
   "outputs": [
    {
     "data": {
      "image/png": "[encoded data removed]",
      "text/plain": [
       "<Figure size 576x360 with 1 Axes>"
      ]
     },
     "metadata": {
      "needs_background": "light"
     },
     "output_type": "display_data"
    }
   ],
   "source": [
    "plt.figure(figsize=(8, 5))\n",
    "sns.lineplot(data=ind_df, x='Year', y='Foreign direct investment')\n",
    "plt.xlabel('Year')\n",
    "plt.ylabel('Foreign direct investment')\n",
    "plt.title('Foreign direct investment in India (2001-2020)')\n",
    "plt.show()"
   ]
  },
  {
   "cell_type": "code",
   "execution_count": 19,
   "id": "fe209cb2",
   "metadata": {},
   "outputs": [],
   "source": [
    "def poly(x, a, b, c, d, e):\n",
    "    \"\"\" Calulates polynominal\"\"\"\n",
    "    x = x - 2001\n",
    "    f = a + b*x + c*x**2 + d*x**3 + e*x**4\n",
    "    return f"
   ]
  },
  {
   "cell_type": "code",
   "execution_count": 20,
   "id": "de513510",
   "metadata": {},
   "outputs": [],
   "source": [
    "param, covar = opt.curve_fit(poly, ind_df[\"Year\"], ind_df[\"Foreign direct investment\"])\n",
    "sigma = np.sqrt(np.diag(covar))\n",
    "year = np.arange(2000, 2026)\n",
    "forecast = poly(year, *param)\n",
    "sigma = errors.error_prop(year, poly, param, covar)\n",
    "low = forecast - sigma\n",
    "up = forecast + sigma\n",
    "ind_df[\"fit\"] = poly(ind_df[\"Year\"], *param)"
   ]
  },
  {
   "cell_type": "code",
   "execution_count": 21,
   "id": "38d06dcd",
   "metadata": {
    "scrolled": true
   },
   "outputs": [
    {
     "data": {
      "image/png": "[encoded data removed]",
      "text/plain": [
       "<Figure size 576x360 with 1 Axes>"
      ]
     },
     "metadata": {
      "needs_background": "light"
     },
     "output_type": "display_data"
    }
   ],
   "source": [
    "plt.figure(figsize=(8, 5))\n",
    "plt.plot(ind_df[\"Year\"], ind_df[\"Foreign direct investment\"], label=\"Foreign direct investment\")\n",
    "plt.plot(year, forecast, label=\"forecast\")\n",
    "plt.fill_between(year, low, up, color=\"grey\", alpha=0.7)\n",
    "plt.title(\"Foreign direct investment in India\")\n",
    "plt.xlabel(\"Year\")\n",
    "plt.ylabel(\"Foreign direct investment\")\n",
    "plt.legend()\n",
    "plt.show()"
   ]
  },
  {
   "cell_type": "code",
   "execution_count": null,
   "id": "e3e2b4e5",
   "metadata": {},
   "outputs": [],
   "source": []
  }
 ],
 "metadata": {
  "kernelspec": {
   "display_name": "Python 3",
   "language": "python",
   "name": "python3"
  },
  "language_info": {
   "codemirror_mode": {
    "name": "ipython",
    "version": 3
   },
   "file_extension": ".py",
   "mimetype": "text/x-python",
   "name": "python",
   "nbconvert_exporter": "python",
   "pygments_lexer": "ipython3",
   "version": "3.8.8"
  }
 },
 "nbformat": 4,
 "nbformat_minor": 5
}
